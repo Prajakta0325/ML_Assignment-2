{
 "cells": [
  {
   "cell_type": "markdown",
   "id": "658fac15",
   "metadata": {},
   "source": [
    "### Step 1: import all lab"
   ]
  },
  {
   "cell_type": "code",
   "execution_count": 59,
   "id": "0a4a88d5",
   "metadata": {},
   "outputs": [],
   "source": [
    "import pandas as pd\n",
    "import numpy as np\n",
    "import seaborn as sns\n",
    "import matplotlib.pyplot as plt\n",
    "import warnings\n",
    "warnings.filterwarnings('ignore')"
   ]
  },
  {
   "cell_type": "markdown",
   "id": "f651362e",
   "metadata": {},
   "source": [
    "### Step 2 : Load Dataset"
   ]
  },
  {
   "cell_type": "code",
   "execution_count": 80,
   "id": "61f352dc",
   "metadata": {},
   "outputs": [
    {
     "data": {
      "text/html": [
       "<div>\n",
       "<style scoped>\n",
       "    .dataframe tbody tr th:only-of-type {\n",
       "        vertical-align: middle;\n",
       "    }\n",
       "\n",
       "    .dataframe tbody tr th {\n",
       "        vertical-align: top;\n",
       "    }\n",
       "\n",
       "    .dataframe thead th {\n",
       "        text-align: right;\n",
       "    }\n",
       "</style>\n",
       "<table border=\"1\" class=\"dataframe\">\n",
       "  <thead>\n",
       "    <tr style=\"text-align: right;\">\n",
       "      <th></th>\n",
       "      <th>Id</th>\n",
       "      <th>MSSubClass</th>\n",
       "      <th>MSZoning</th>\n",
       "      <th>LotFrontage</th>\n",
       "      <th>LotArea</th>\n",
       "      <th>Street</th>\n",
       "      <th>Alley</th>\n",
       "      <th>LotShape</th>\n",
       "      <th>LandContour</th>\n",
       "      <th>Utilities</th>\n",
       "      <th>...</th>\n",
       "      <th>ScreenPorch</th>\n",
       "      <th>PoolArea</th>\n",
       "      <th>PoolQC</th>\n",
       "      <th>Fence</th>\n",
       "      <th>MiscFeature</th>\n",
       "      <th>MiscVal</th>\n",
       "      <th>MoSold</th>\n",
       "      <th>YrSold</th>\n",
       "      <th>SaleType</th>\n",
       "      <th>SaleCondition</th>\n",
       "    </tr>\n",
       "  </thead>\n",
       "  <tbody>\n",
       "    <tr>\n",
       "      <th>0</th>\n",
       "      <td>1461</td>\n",
       "      <td>20</td>\n",
       "      <td>RH</td>\n",
       "      <td>80.0</td>\n",
       "      <td>11622</td>\n",
       "      <td>Pave</td>\n",
       "      <td>NaN</td>\n",
       "      <td>Reg</td>\n",
       "      <td>Lvl</td>\n",
       "      <td>AllPub</td>\n",
       "      <td>...</td>\n",
       "      <td>120</td>\n",
       "      <td>0</td>\n",
       "      <td>NaN</td>\n",
       "      <td>MnPrv</td>\n",
       "      <td>NaN</td>\n",
       "      <td>0</td>\n",
       "      <td>6</td>\n",
       "      <td>2010</td>\n",
       "      <td>WD</td>\n",
       "      <td>Normal</td>\n",
       "    </tr>\n",
       "    <tr>\n",
       "      <th>1</th>\n",
       "      <td>1462</td>\n",
       "      <td>20</td>\n",
       "      <td>RL</td>\n",
       "      <td>81.0</td>\n",
       "      <td>14267</td>\n",
       "      <td>Pave</td>\n",
       "      <td>NaN</td>\n",
       "      <td>IR1</td>\n",
       "      <td>Lvl</td>\n",
       "      <td>AllPub</td>\n",
       "      <td>...</td>\n",
       "      <td>0</td>\n",
       "      <td>0</td>\n",
       "      <td>NaN</td>\n",
       "      <td>NaN</td>\n",
       "      <td>Gar2</td>\n",
       "      <td>12500</td>\n",
       "      <td>6</td>\n",
       "      <td>2010</td>\n",
       "      <td>WD</td>\n",
       "      <td>Normal</td>\n",
       "    </tr>\n",
       "    <tr>\n",
       "      <th>2</th>\n",
       "      <td>1463</td>\n",
       "      <td>60</td>\n",
       "      <td>RL</td>\n",
       "      <td>74.0</td>\n",
       "      <td>13830</td>\n",
       "      <td>Pave</td>\n",
       "      <td>NaN</td>\n",
       "      <td>IR1</td>\n",
       "      <td>Lvl</td>\n",
       "      <td>AllPub</td>\n",
       "      <td>...</td>\n",
       "      <td>0</td>\n",
       "      <td>0</td>\n",
       "      <td>NaN</td>\n",
       "      <td>MnPrv</td>\n",
       "      <td>NaN</td>\n",
       "      <td>0</td>\n",
       "      <td>3</td>\n",
       "      <td>2010</td>\n",
       "      <td>WD</td>\n",
       "      <td>Normal</td>\n",
       "    </tr>\n",
       "    <tr>\n",
       "      <th>3</th>\n",
       "      <td>1464</td>\n",
       "      <td>60</td>\n",
       "      <td>RL</td>\n",
       "      <td>78.0</td>\n",
       "      <td>9978</td>\n",
       "      <td>Pave</td>\n",
       "      <td>NaN</td>\n",
       "      <td>IR1</td>\n",
       "      <td>Lvl</td>\n",
       "      <td>AllPub</td>\n",
       "      <td>...</td>\n",
       "      <td>0</td>\n",
       "      <td>0</td>\n",
       "      <td>NaN</td>\n",
       "      <td>NaN</td>\n",
       "      <td>NaN</td>\n",
       "      <td>0</td>\n",
       "      <td>6</td>\n",
       "      <td>2010</td>\n",
       "      <td>WD</td>\n",
       "      <td>Normal</td>\n",
       "    </tr>\n",
       "    <tr>\n",
       "      <th>4</th>\n",
       "      <td>1465</td>\n",
       "      <td>120</td>\n",
       "      <td>RL</td>\n",
       "      <td>43.0</td>\n",
       "      <td>5005</td>\n",
       "      <td>Pave</td>\n",
       "      <td>NaN</td>\n",
       "      <td>IR1</td>\n",
       "      <td>HLS</td>\n",
       "      <td>AllPub</td>\n",
       "      <td>...</td>\n",
       "      <td>144</td>\n",
       "      <td>0</td>\n",
       "      <td>NaN</td>\n",
       "      <td>NaN</td>\n",
       "      <td>NaN</td>\n",
       "      <td>0</td>\n",
       "      <td>1</td>\n",
       "      <td>2010</td>\n",
       "      <td>WD</td>\n",
       "      <td>Normal</td>\n",
       "    </tr>\n",
       "  </tbody>\n",
       "</table>\n",
       "<p>5 rows × 80 columns</p>\n",
       "</div>"
      ],
      "text/plain": [
       "     Id  MSSubClass MSZoning  LotFrontage  LotArea Street Alley LotShape  \\\n",
       "0  1461          20       RH         80.0    11622   Pave   NaN      Reg   \n",
       "1  1462          20       RL         81.0    14267   Pave   NaN      IR1   \n",
       "2  1463          60       RL         74.0    13830   Pave   NaN      IR1   \n",
       "3  1464          60       RL         78.0     9978   Pave   NaN      IR1   \n",
       "4  1465         120       RL         43.0     5005   Pave   NaN      IR1   \n",
       "\n",
       "  LandContour Utilities  ... ScreenPorch PoolArea PoolQC  Fence MiscFeature  \\\n",
       "0         Lvl    AllPub  ...         120        0    NaN  MnPrv         NaN   \n",
       "1         Lvl    AllPub  ...           0        0    NaN    NaN        Gar2   \n",
       "2         Lvl    AllPub  ...           0        0    NaN  MnPrv         NaN   \n",
       "3         Lvl    AllPub  ...           0        0    NaN    NaN         NaN   \n",
       "4         HLS    AllPub  ...         144        0    NaN    NaN         NaN   \n",
       "\n",
       "  MiscVal MoSold  YrSold  SaleType  SaleCondition  \n",
       "0       0      6    2010        WD         Normal  \n",
       "1   12500      6    2010        WD         Normal  \n",
       "2       0      3    2010        WD         Normal  \n",
       "3       0      6    2010        WD         Normal  \n",
       "4       0      1    2010        WD         Normal  \n",
       "\n",
       "[5 rows x 80 columns]"
      ]
     },
     "execution_count": 80,
     "metadata": {},
     "output_type": "execute_result"
    }
   ],
   "source": [
    "df_test = pd.read_csv(\"test.csv\")\n",
    "df_train = pd.read_csv(\"train.csv\")\n",
    "df_test.head()"
   ]
  },
  {
   "cell_type": "code",
   "execution_count": 61,
   "id": "b8e14443",
   "metadata": {},
   "outputs": [
    {
     "data": {
      "text/html": [
       "<div>\n",
       "<style scoped>\n",
       "    .dataframe tbody tr th:only-of-type {\n",
       "        vertical-align: middle;\n",
       "    }\n",
       "\n",
       "    .dataframe tbody tr th {\n",
       "        vertical-align: top;\n",
       "    }\n",
       "\n",
       "    .dataframe thead th {\n",
       "        text-align: right;\n",
       "    }\n",
       "</style>\n",
       "<table border=\"1\" class=\"dataframe\">\n",
       "  <thead>\n",
       "    <tr style=\"text-align: right;\">\n",
       "      <th></th>\n",
       "      <th>Id</th>\n",
       "      <th>MSSubClass</th>\n",
       "      <th>MSZoning</th>\n",
       "      <th>LotFrontage</th>\n",
       "      <th>LotArea</th>\n",
       "      <th>Street</th>\n",
       "      <th>Alley</th>\n",
       "      <th>LotShape</th>\n",
       "      <th>LandContour</th>\n",
       "      <th>Utilities</th>\n",
       "      <th>...</th>\n",
       "      <th>PoolArea</th>\n",
       "      <th>PoolQC</th>\n",
       "      <th>Fence</th>\n",
       "      <th>MiscFeature</th>\n",
       "      <th>MiscVal</th>\n",
       "      <th>MoSold</th>\n",
       "      <th>YrSold</th>\n",
       "      <th>SaleType</th>\n",
       "      <th>SaleCondition</th>\n",
       "      <th>SalePrice</th>\n",
       "    </tr>\n",
       "  </thead>\n",
       "  <tbody>\n",
       "    <tr>\n",
       "      <th>0</th>\n",
       "      <td>1</td>\n",
       "      <td>60</td>\n",
       "      <td>RL</td>\n",
       "      <td>65.0</td>\n",
       "      <td>8450</td>\n",
       "      <td>Pave</td>\n",
       "      <td>NaN</td>\n",
       "      <td>Reg</td>\n",
       "      <td>Lvl</td>\n",
       "      <td>AllPub</td>\n",
       "      <td>...</td>\n",
       "      <td>0</td>\n",
       "      <td>NaN</td>\n",
       "      <td>NaN</td>\n",
       "      <td>NaN</td>\n",
       "      <td>0</td>\n",
       "      <td>2</td>\n",
       "      <td>2008</td>\n",
       "      <td>WD</td>\n",
       "      <td>Normal</td>\n",
       "      <td>208500</td>\n",
       "    </tr>\n",
       "    <tr>\n",
       "      <th>1</th>\n",
       "      <td>2</td>\n",
       "      <td>20</td>\n",
       "      <td>RL</td>\n",
       "      <td>80.0</td>\n",
       "      <td>9600</td>\n",
       "      <td>Pave</td>\n",
       "      <td>NaN</td>\n",
       "      <td>Reg</td>\n",
       "      <td>Lvl</td>\n",
       "      <td>AllPub</td>\n",
       "      <td>...</td>\n",
       "      <td>0</td>\n",
       "      <td>NaN</td>\n",
       "      <td>NaN</td>\n",
       "      <td>NaN</td>\n",
       "      <td>0</td>\n",
       "      <td>5</td>\n",
       "      <td>2007</td>\n",
       "      <td>WD</td>\n",
       "      <td>Normal</td>\n",
       "      <td>181500</td>\n",
       "    </tr>\n",
       "    <tr>\n",
       "      <th>2</th>\n",
       "      <td>3</td>\n",
       "      <td>60</td>\n",
       "      <td>RL</td>\n",
       "      <td>68.0</td>\n",
       "      <td>11250</td>\n",
       "      <td>Pave</td>\n",
       "      <td>NaN</td>\n",
       "      <td>IR1</td>\n",
       "      <td>Lvl</td>\n",
       "      <td>AllPub</td>\n",
       "      <td>...</td>\n",
       "      <td>0</td>\n",
       "      <td>NaN</td>\n",
       "      <td>NaN</td>\n",
       "      <td>NaN</td>\n",
       "      <td>0</td>\n",
       "      <td>9</td>\n",
       "      <td>2008</td>\n",
       "      <td>WD</td>\n",
       "      <td>Normal</td>\n",
       "      <td>223500</td>\n",
       "    </tr>\n",
       "    <tr>\n",
       "      <th>3</th>\n",
       "      <td>4</td>\n",
       "      <td>70</td>\n",
       "      <td>RL</td>\n",
       "      <td>60.0</td>\n",
       "      <td>9550</td>\n",
       "      <td>Pave</td>\n",
       "      <td>NaN</td>\n",
       "      <td>IR1</td>\n",
       "      <td>Lvl</td>\n",
       "      <td>AllPub</td>\n",
       "      <td>...</td>\n",
       "      <td>0</td>\n",
       "      <td>NaN</td>\n",
       "      <td>NaN</td>\n",
       "      <td>NaN</td>\n",
       "      <td>0</td>\n",
       "      <td>2</td>\n",
       "      <td>2006</td>\n",
       "      <td>WD</td>\n",
       "      <td>Abnorml</td>\n",
       "      <td>140000</td>\n",
       "    </tr>\n",
       "    <tr>\n",
       "      <th>4</th>\n",
       "      <td>5</td>\n",
       "      <td>60</td>\n",
       "      <td>RL</td>\n",
       "      <td>84.0</td>\n",
       "      <td>14260</td>\n",
       "      <td>Pave</td>\n",
       "      <td>NaN</td>\n",
       "      <td>IR1</td>\n",
       "      <td>Lvl</td>\n",
       "      <td>AllPub</td>\n",
       "      <td>...</td>\n",
       "      <td>0</td>\n",
       "      <td>NaN</td>\n",
       "      <td>NaN</td>\n",
       "      <td>NaN</td>\n",
       "      <td>0</td>\n",
       "      <td>12</td>\n",
       "      <td>2008</td>\n",
       "      <td>WD</td>\n",
       "      <td>Normal</td>\n",
       "      <td>250000</td>\n",
       "    </tr>\n",
       "  </tbody>\n",
       "</table>\n",
       "<p>5 rows × 81 columns</p>\n",
       "</div>"
      ],
      "text/plain": [
       "   Id  MSSubClass MSZoning  LotFrontage  LotArea Street Alley LotShape  \\\n",
       "0   1          60       RL         65.0     8450   Pave   NaN      Reg   \n",
       "1   2          20       RL         80.0     9600   Pave   NaN      Reg   \n",
       "2   3          60       RL         68.0    11250   Pave   NaN      IR1   \n",
       "3   4          70       RL         60.0     9550   Pave   NaN      IR1   \n",
       "4   5          60       RL         84.0    14260   Pave   NaN      IR1   \n",
       "\n",
       "  LandContour Utilities  ... PoolArea PoolQC Fence MiscFeature MiscVal MoSold  \\\n",
       "0         Lvl    AllPub  ...        0    NaN   NaN         NaN       0      2   \n",
       "1         Lvl    AllPub  ...        0    NaN   NaN         NaN       0      5   \n",
       "2         Lvl    AllPub  ...        0    NaN   NaN         NaN       0      9   \n",
       "3         Lvl    AllPub  ...        0    NaN   NaN         NaN       0      2   \n",
       "4         Lvl    AllPub  ...        0    NaN   NaN         NaN       0     12   \n",
       "\n",
       "  YrSold  SaleType  SaleCondition  SalePrice  \n",
       "0   2008        WD         Normal     208500  \n",
       "1   2007        WD         Normal     181500  \n",
       "2   2008        WD         Normal     223500  \n",
       "3   2006        WD        Abnorml     140000  \n",
       "4   2008        WD         Normal     250000  \n",
       "\n",
       "[5 rows x 81 columns]"
      ]
     },
     "execution_count": 61,
     "metadata": {},
     "output_type": "execute_result"
    }
   ],
   "source": [
    "df_train.head()"
   ]
  },
  {
   "cell_type": "markdown",
   "id": "6d6ee0fd",
   "metadata": {},
   "source": [
    "### Step 3: Data Cleaning, Data Preprocessing"
   ]
  },
  {
   "cell_type": "code",
   "execution_count": 62,
   "id": "558a2c80",
   "metadata": {},
   "outputs": [
    {
     "data": {
      "text/plain": [
       "(1460, 81)"
      ]
     },
     "execution_count": 62,
     "metadata": {},
     "output_type": "execute_result"
    }
   ],
   "source": [
    "df_train.shape"
   ]
  },
  {
   "cell_type": "code",
   "execution_count": 64,
   "id": "e9c992ab",
   "metadata": {},
   "outputs": [
    {
     "name": "stdout",
     "output_type": "stream",
     "text": [
      "<class 'pandas.core.frame.DataFrame'>\n",
      "RangeIndex: 1460 entries, 0 to 1459\n",
      "Data columns (total 81 columns):\n",
      " #   Column         Non-Null Count  Dtype  \n",
      "---  ------         --------------  -----  \n",
      " 0   Id             1460 non-null   int64  \n",
      " 1   MSSubClass     1460 non-null   int64  \n",
      " 2   MSZoning       1460 non-null   object \n",
      " 3   LotFrontage    1201 non-null   float64\n",
      " 4   LotArea        1460 non-null   int64  \n",
      " 5   Street         1460 non-null   object \n",
      " 6   Alley          91 non-null     object \n",
      " 7   LotShape       1460 non-null   object \n",
      " 8   LandContour    1460 non-null   object \n",
      " 9   Utilities      1460 non-null   object \n",
      " 10  LotConfig      1460 non-null   object \n",
      " 11  LandSlope      1460 non-null   object \n",
      " 12  Neighborhood   1460 non-null   object \n",
      " 13  Condition1     1460 non-null   object \n",
      " 14  Condition2     1460 non-null   object \n",
      " 15  BldgType       1460 non-null   object \n",
      " 16  HouseStyle     1460 non-null   object \n",
      " 17  OverallQual    1460 non-null   int64  \n",
      " 18  OverallCond    1460 non-null   int64  \n",
      " 19  YearBuilt      1460 non-null   int64  \n",
      " 20  YearRemodAdd   1460 non-null   int64  \n",
      " 21  RoofStyle      1460 non-null   object \n",
      " 22  RoofMatl       1460 non-null   object \n",
      " 23  Exterior1st    1460 non-null   object \n",
      " 24  Exterior2nd    1460 non-null   object \n",
      " 25  MasVnrType     1452 non-null   object \n",
      " 26  MasVnrArea     1452 non-null   float64\n",
      " 27  ExterQual      1460 non-null   object \n",
      " 28  ExterCond      1460 non-null   object \n",
      " 29  Foundation     1460 non-null   object \n",
      " 30  BsmtQual       1423 non-null   object \n",
      " 31  BsmtCond       1423 non-null   object \n",
      " 32  BsmtExposure   1422 non-null   object \n",
      " 33  BsmtFinType1   1423 non-null   object \n",
      " 34  BsmtFinSF1     1460 non-null   int64  \n",
      " 35  BsmtFinType2   1422 non-null   object \n",
      " 36  BsmtFinSF2     1460 non-null   int64  \n",
      " 37  BsmtUnfSF      1460 non-null   int64  \n",
      " 38  TotalBsmtSF    1460 non-null   int64  \n",
      " 39  Heating        1460 non-null   object \n",
      " 40  HeatingQC      1460 non-null   object \n",
      " 41  CentralAir     1460 non-null   object \n",
      " 42  Electrical     1459 non-null   object \n",
      " 43  1stFlrSF       1460 non-null   int64  \n",
      " 44  2ndFlrSF       1460 non-null   int64  \n",
      " 45  LowQualFinSF   1460 non-null   int64  \n",
      " 46  GrLivArea      1460 non-null   int64  \n",
      " 47  BsmtFullBath   1460 non-null   int64  \n",
      " 48  BsmtHalfBath   1460 non-null   int64  \n",
      " 49  FullBath       1460 non-null   int64  \n",
      " 50  HalfBath       1460 non-null   int64  \n",
      " 51  BedroomAbvGr   1460 non-null   int64  \n",
      " 52  KitchenAbvGr   1460 non-null   int64  \n",
      " 53  KitchenQual    1460 non-null   object \n",
      " 54  TotRmsAbvGrd   1460 non-null   int64  \n",
      " 55  Functional     1460 non-null   object \n",
      " 56  Fireplaces     1460 non-null   int64  \n",
      " 57  FireplaceQu    770 non-null    object \n",
      " 58  GarageType     1379 non-null   object \n",
      " 59  GarageYrBlt    1379 non-null   float64\n",
      " 60  GarageFinish   1379 non-null   object \n",
      " 61  GarageCars     1460 non-null   int64  \n",
      " 62  GarageArea     1460 non-null   int64  \n",
      " 63  GarageQual     1379 non-null   object \n",
      " 64  GarageCond     1379 non-null   object \n",
      " 65  PavedDrive     1460 non-null   object \n",
      " 66  WoodDeckSF     1460 non-null   int64  \n",
      " 67  OpenPorchSF    1460 non-null   int64  \n",
      " 68  EnclosedPorch  1460 non-null   int64  \n",
      " 69  3SsnPorch      1460 non-null   int64  \n",
      " 70  ScreenPorch    1460 non-null   int64  \n",
      " 71  PoolArea       1460 non-null   int64  \n",
      " 72  PoolQC         7 non-null      object \n",
      " 73  Fence          281 non-null    object \n",
      " 74  MiscFeature    54 non-null     object \n",
      " 75  MiscVal        1460 non-null   int64  \n",
      " 76  MoSold         1460 non-null   int64  \n",
      " 77  YrSold         1460 non-null   int64  \n",
      " 78  SaleType       1460 non-null   object \n",
      " 79  SaleCondition  1460 non-null   object \n",
      " 80  SalePrice      1460 non-null   int64  \n",
      "dtypes: float64(3), int64(35), object(43)\n",
      "memory usage: 924.0+ KB\n"
     ]
    }
   ],
   "source": [
    "df_train.info()"
   ]
  },
  {
   "cell_type": "markdown",
   "id": "b59c477b",
   "metadata": {},
   "source": [
    "##### missing value treatment on train dataset"
   ]
  },
  {
   "cell_type": "code",
   "execution_count": 69,
   "id": "a4a29af7",
   "metadata": {},
   "outputs": [
    {
     "name": "stdout",
     "output_type": "stream",
     "text": [
      "train NaN columns: {'LotFrontage': 259, 'Alley': 1369, 'MasVnrType': 8, 'MasVnrArea': 8, 'BsmtQual': 37, 'BsmtCond': 37, 'BsmtExposure': 38, 'BsmtFinType1': 37, 'BsmtFinType2': 38, 'Electrical': 1, 'FireplaceQu': 690, 'GarageType': 81, 'GarageYrBlt': 81, 'GarageFinish': 81, 'GarageQual': 81, 'GarageCond': 81, 'PoolQC': 1453, 'Fence': 1179, 'MiscFeature': 1406}\n"
     ]
    }
   ],
   "source": [
    "df_train_Nan_dict={}\n",
    "for i in df_train.columns:\n",
    "  if df_train[i].isna().sum()!=0:\n",
    "    df_train_Nan_dict[i]=df_train[i].isna().sum()\n",
    "print('train NaN columns:',df_train_Nan_dict)"
   ]
  },
  {
   "cell_type": "markdown",
   "id": "f1dd8306",
   "metadata": {},
   "source": [
    "- drop the column which have more than 200 missing value.\n",
    "- fill missing value in other column"
   ]
  },
  {
   "cell_type": "code",
   "execution_count": 72,
   "id": "22979bf2",
   "metadata": {},
   "outputs": [],
   "source": [
    "df_train = df_train.drop(['LotFrontage','Alley','FireplaceQu','PoolQC','Fence','MiscFeature'],axis=1)"
   ]
  },
  {
   "cell_type": "code",
   "execution_count": 73,
   "id": "067d4cc1",
   "metadata": {},
   "outputs": [
    {
     "data": {
      "text/plain": [
       "(1460, 75)"
      ]
     },
     "execution_count": 73,
     "metadata": {},
     "output_type": "execute_result"
    }
   ],
   "source": [
    "df_train.shape"
   ]
  },
  {
   "cell_type": "code",
   "execution_count": 75,
   "id": "137a4fe2",
   "metadata": {},
   "outputs": [],
   "source": [
    "df_train['MasVnrType'] = df_train['MasVnrType'].fillna(df_train['MasVnrType'].mode()[0])"
   ]
  },
  {
   "cell_type": "code",
   "execution_count": 76,
   "id": "6bfe220d",
   "metadata": {},
   "outputs": [],
   "source": [
    "df_train['BsmtQual'] = df_train['BsmtQual'].fillna(df_train['BsmtQual'].mode()[0])\n",
    "df_train['BsmtCond'] = df_train['BsmtCond'].fillna(df_train['BsmtCond'].mode()[0])\n",
    "df_train['BsmtExposure'] = df_train['BsmtExposure'].fillna(df_train['BsmtExposure'].mode()[0])\n",
    "df_train['BsmtFinType1'] = df_train['BsmtFinType1'].fillna(df_train['BsmtFinType1'].mode()[0])\n",
    "df_train['BsmtFinType2'] = df_train['BsmtFinType2'].fillna(df_train['BsmtFinType2'].mode()[0])\n",
    "df_train['Electrical'] = df_train['Electrical'].fillna(df_train['Electrical'].mode()[0])\n",
    "df_train['GarageType'] = df_train['GarageType'].fillna(df_train['GarageType'].mode()[0])\n",
    "df_train['GarageFinish'] = df_train['GarageFinish'].fillna(df_train['GarageFinish'].mode()[0])\n",
    "df_train['GarageQual'] = df_train['GarageQual'].fillna(df_train['GarageQual'].mode()[0])\n",
    "df_train['GarageCond'] = df_train['GarageCond'].fillna(df_train['GarageCond'].mode()[0])\n",
    "df_train['GarageYrBlt'] = df_train['GarageYrBlt'].fillna(df_train['GarageYrBlt'].mode()[0])\n",
    "\n",
    "df_train['MasVnrArea'] = df_train['MasVnrArea'].fillna(df_train['MasVnrArea'].mean())"
   ]
  },
  {
   "cell_type": "markdown",
   "id": "e9beb106",
   "metadata": {},
   "source": [
    "#### missing value treatment on test dataset"
   ]
  },
  {
   "cell_type": "code",
   "execution_count": 81,
   "id": "6c1057ac",
   "metadata": {},
   "outputs": [
    {
     "data": {
      "text/plain": [
       "(1459, 80)"
      ]
     },
     "execution_count": 81,
     "metadata": {},
     "output_type": "execute_result"
    }
   ],
   "source": [
    "df_test.shape"
   ]
  },
  {
   "cell_type": "code",
   "execution_count": 86,
   "id": "d3cff175",
   "metadata": {},
   "outputs": [
    {
     "name": "stdout",
     "output_type": "stream",
     "text": [
      "<class 'pandas.core.frame.DataFrame'>\n",
      "RangeIndex: 1459 entries, 0 to 1458\n",
      "Data columns (total 74 columns):\n",
      " #   Column         Non-Null Count  Dtype  \n",
      "---  ------         --------------  -----  \n",
      " 0   Id             1459 non-null   int64  \n",
      " 1   MSSubClass     1459 non-null   int64  \n",
      " 2   MSZoning       1455 non-null   object \n",
      " 3   LotArea        1459 non-null   int64  \n",
      " 4   Street         1459 non-null   object \n",
      " 5   LotShape       1459 non-null   object \n",
      " 6   LandContour    1459 non-null   object \n",
      " 7   Utilities      1457 non-null   object \n",
      " 8   LotConfig      1459 non-null   object \n",
      " 9   LandSlope      1459 non-null   object \n",
      " 10  Neighborhood   1459 non-null   object \n",
      " 11  Condition1     1459 non-null   object \n",
      " 12  Condition2     1459 non-null   object \n",
      " 13  BldgType       1459 non-null   object \n",
      " 14  HouseStyle     1459 non-null   object \n",
      " 15  OverallQual    1459 non-null   int64  \n",
      " 16  OverallCond    1459 non-null   int64  \n",
      " 17  YearBuilt      1459 non-null   int64  \n",
      " 18  YearRemodAdd   1459 non-null   int64  \n",
      " 19  RoofStyle      1459 non-null   object \n",
      " 20  RoofMatl       1459 non-null   object \n",
      " 21  Exterior1st    1458 non-null   object \n",
      " 22  Exterior2nd    1458 non-null   object \n",
      " 23  MasVnrType     1443 non-null   object \n",
      " 24  MasVnrArea     1444 non-null   float64\n",
      " 25  ExterQual      1459 non-null   object \n",
      " 26  ExterCond      1459 non-null   object \n",
      " 27  Foundation     1459 non-null   object \n",
      " 28  BsmtQual       1415 non-null   object \n",
      " 29  BsmtCond       1414 non-null   object \n",
      " 30  BsmtExposure   1415 non-null   object \n",
      " 31  BsmtFinType1   1417 non-null   object \n",
      " 32  BsmtFinSF1     1458 non-null   float64\n",
      " 33  BsmtFinType2   1417 non-null   object \n",
      " 34  BsmtFinSF2     1458 non-null   float64\n",
      " 35  BsmtUnfSF      1458 non-null   float64\n",
      " 36  TotalBsmtSF    1458 non-null   float64\n",
      " 37  Heating        1459 non-null   object \n",
      " 38  HeatingQC      1459 non-null   object \n",
      " 39  CentralAir     1459 non-null   object \n",
      " 40  Electrical     1459 non-null   object \n",
      " 41  1stFlrSF       1459 non-null   int64  \n",
      " 42  2ndFlrSF       1459 non-null   int64  \n",
      " 43  LowQualFinSF   1459 non-null   int64  \n",
      " 44  GrLivArea      1459 non-null   int64  \n",
      " 45  BsmtFullBath   1457 non-null   float64\n",
      " 46  BsmtHalfBath   1457 non-null   float64\n",
      " 47  FullBath       1459 non-null   int64  \n",
      " 48  HalfBath       1459 non-null   int64  \n",
      " 49  BedroomAbvGr   1459 non-null   int64  \n",
      " 50  KitchenAbvGr   1459 non-null   int64  \n",
      " 51  KitchenQual    1458 non-null   object \n",
      " 52  TotRmsAbvGrd   1459 non-null   int64  \n",
      " 53  Functional     1457 non-null   object \n",
      " 54  Fireplaces     1459 non-null   int64  \n",
      " 55  GarageType     1383 non-null   object \n",
      " 56  GarageYrBlt    1381 non-null   float64\n",
      " 57  GarageFinish   1381 non-null   object \n",
      " 58  GarageCars     1458 non-null   float64\n",
      " 59  GarageArea     1458 non-null   float64\n",
      " 60  GarageQual     1381 non-null   object \n",
      " 61  GarageCond     1381 non-null   object \n",
      " 62  PavedDrive     1459 non-null   object \n",
      " 63  WoodDeckSF     1459 non-null   int64  \n",
      " 64  OpenPorchSF    1459 non-null   int64  \n",
      " 65  EnclosedPorch  1459 non-null   int64  \n",
      " 66  3SsnPorch      1459 non-null   int64  \n",
      " 67  ScreenPorch    1459 non-null   int64  \n",
      " 68  PoolArea       1459 non-null   int64  \n",
      " 69  MiscVal        1459 non-null   int64  \n",
      " 70  MoSold         1459 non-null   int64  \n",
      " 71  YrSold         1459 non-null   int64  \n",
      " 72  SaleType       1458 non-null   object \n",
      " 73  SaleCondition  1459 non-null   object \n",
      "dtypes: float64(10), int64(26), object(38)\n",
      "memory usage: 843.6+ KB\n"
     ]
    }
   ],
   "source": [
    "df_test.info()"
   ]
  },
  {
   "cell_type": "code",
   "execution_count": 85,
   "id": "56fafad7",
   "metadata": {},
   "outputs": [
    {
     "name": "stdout",
     "output_type": "stream",
     "text": [
      "test NaN columns: {'MSZoning': 4, 'Utilities': 2, 'Exterior1st': 1, 'Exterior2nd': 1, 'MasVnrType': 16, 'MasVnrArea': 15, 'BsmtQual': 44, 'BsmtCond': 45, 'BsmtExposure': 44, 'BsmtFinType1': 42, 'BsmtFinSF1': 1, 'BsmtFinType2': 42, 'BsmtFinSF2': 1, 'BsmtUnfSF': 1, 'TotalBsmtSF': 1, 'BsmtFullBath': 2, 'BsmtHalfBath': 2, 'KitchenQual': 1, 'Functional': 2, 'GarageType': 76, 'GarageYrBlt': 78, 'GarageFinish': 78, 'GarageCars': 1, 'GarageArea': 1, 'GarageQual': 78, 'GarageCond': 78, 'SaleType': 1}\n"
     ]
    }
   ],
   "source": [
    "df_test_Nan_dict={}\n",
    "for i in df_test.columns:\n",
    "  if df_test[i].isna().sum()!=0:\n",
    "    df_test_Nan_dict[i]=df_test[i].isna().sum()\n",
    "print('test NaN columns:',df_test_Nan_dict)\n"
   ]
  },
  {
   "cell_type": "markdown",
   "id": "9cd1c194",
   "metadata": {},
   "source": [
    "- drop the column which have more than 200 missing value.\n",
    "- fill missing value in other column"
   ]
  },
  {
   "cell_type": "code",
   "execution_count": 83,
   "id": "e630d09d",
   "metadata": {},
   "outputs": [],
   "source": [
    "df_test = df_test.drop(['LotFrontage','Alley','FireplaceQu','PoolQC','Fence','MiscFeature'],axis=1)"
   ]
  },
  {
   "cell_type": "code",
   "execution_count": 84,
   "id": "37fc4504",
   "metadata": {},
   "outputs": [
    {
     "data": {
      "text/plain": [
       "(1459, 74)"
      ]
     },
     "execution_count": 84,
     "metadata": {},
     "output_type": "execute_result"
    }
   ],
   "source": [
    "df_test.shape"
   ]
  },
  {
   "cell_type": "markdown",
   "id": "f2ce5f18",
   "metadata": {},
   "source": [
    "- missing value treatment"
   ]
  },
  {
   "cell_type": "code",
   "execution_count": 87,
   "id": "f68de2a5",
   "metadata": {},
   "outputs": [],
   "source": [
    "df_test['MSZoning'] = df_test['MSZoning'].fillna(df_test['MSZoning'].mode()[0])\n",
    "df_test['Utilities'] = df_test['Utilities'].fillna(df_test['Utilities'].mode()[0])\n",
    "df_test['Exterior1st'] = df_test['Exterior1st'].fillna(df_test['Exterior1st'].mode()[0])\n",
    "df_test['Exterior2nd'] = df_test['Exterior2nd'].fillna(df_test['Exterior2nd'].mode()[0])\n",
    "df_test['MasVnrType'] = df_test['MasVnrType'].fillna(df_test['MasVnrType'].mode()[0])\n",
    "df_test['BsmtQual'] = df_test['BsmtQual'].fillna(df_test['BsmtQual'].mode()[0])\n",
    "df_test['BsmtCond'] = df_test['BsmtCond'].fillna(df_test['BsmtCond'].mode()[0])\n",
    "df_test['BsmtExposure'] = df_test['BsmtExposure'].fillna(df_test['BsmtExposure'].mode()[0])\n",
    "df_test['BsmtFinType1'] = df_test['BsmtFinType1'].fillna(df_test['BsmtFinType1'].mode()[0])\n",
    "df_test['BsmtFinType2'] = df_test['BsmtFinType2'].fillna(df_test['BsmtFinType2'].mode()[0])\n",
    "df_test['GarageType'] = df_test['GarageType'].fillna(df_test['GarageType'].mode()[0])\n",
    "df_test['GarageFinish'] = df_test['GarageFinish'].fillna(df_test['GarageFinish'].mode()[0])\n",
    "df_test['GarageQual'] = df_test['GarageQual'].fillna(df_test['GarageQual'].mode()[0])\n",
    "df_test['GarageCond'] = df_test['GarageCond'].fillna(df_test['GarageCond'].mode()[0])\n",
    "df_test['GarageYrBlt'] = df_test['GarageYrBlt'].fillna(df_test['GarageYrBlt'].mode()[0])\n",
    "\n",
    "\n",
    "df_test['MasVnrArea'] = df_test['MasVnrArea'].fillna(df_test['MasVnrArea'].mean())\n",
    "df_test['BsmtFinSF1'] = df_test['BsmtFinSF1'].fillna(df_test['BsmtFinSF1'].mean())\n",
    "df_test['BsmtFinSF2'] = df_test['BsmtFinSF2'].fillna(df_test['BsmtFinSF2'].mean())"
   ]
  },
  {
   "cell_type": "code",
   "execution_count": 91,
   "id": "3bea580e",
   "metadata": {},
   "outputs": [],
   "source": [
    "df_test['SaleType'] = df_test['SaleType'].fillna(df_test['SaleType'].mode()[0])"
   ]
  },
  {
   "cell_type": "code",
   "execution_count": null,
   "id": "4ca06826",
   "metadata": {},
   "outputs": [],
   "source": []
  },
  {
   "cell_type": "markdown",
   "id": "336652e2",
   "metadata": {},
   "source": [
    "- check connection/ relation"
   ]
  },
  {
   "cell_type": "code",
   "execution_count": 93,
   "id": "1ca9fd7c",
   "metadata": {},
   "outputs": [],
   "source": [
    "high_corr = df_train.corr()[\"SalePrice\"].sort_values(ascending=False)[0:11].index"
   ]
  },
  {
   "cell_type": "code",
   "execution_count": 94,
   "id": "d156efb6",
   "metadata": {},
   "outputs": [
    {
     "data": {
      "image/png": "[encoded data removed]",
      "text/plain": [
       "<Figure size 640x480 with 2 Axes>"
      ]
     },
     "metadata": {},
     "output_type": "display_data"
    }
   ],
   "source": [
    "sns.heatmap(df_train[high_corr].corr(), annot=True);"
   ]
  },
  {
   "cell_type": "code",
   "execution_count": null,
   "id": "dcaa4bff",
   "metadata": {},
   "outputs": [],
   "source": [
    "#### Step 4: Split data into x and y"
   ]
  },
  {
   "cell_type": "code",
   "execution_count": 96,
   "id": "6799cef3",
   "metadata": {},
   "outputs": [],
   "source": [
    "x= df_train[high_corr[1:]]\n",
    "y = df_train.SalePrice"
   ]
  },
  {
   "cell_type": "code",
   "execution_count": 104,
   "id": "2c251e5e",
   "metadata": {},
   "outputs": [
    {
     "data": {
      "text/html": [
       "<div>\n",
       "<style scoped>\n",
       "    .dataframe tbody tr th:only-of-type {\n",
       "        vertical-align: middle;\n",
       "    }\n",
       "\n",
       "    .dataframe tbody tr th {\n",
       "        vertical-align: top;\n",
       "    }\n",
       "\n",
       "    .dataframe thead th {\n",
       "        text-align: right;\n",
       "    }\n",
       "</style>\n",
       "<table border=\"1\" class=\"dataframe\">\n",
       "  <thead>\n",
       "    <tr style=\"text-align: right;\">\n",
       "      <th></th>\n",
       "      <th>OverallQual</th>\n",
       "      <th>GrLivArea</th>\n",
       "      <th>GarageCars</th>\n",
       "      <th>GarageArea</th>\n",
       "      <th>TotalBsmtSF</th>\n",
       "      <th>1stFlrSF</th>\n",
       "      <th>FullBath</th>\n",
       "      <th>TotRmsAbvGrd</th>\n",
       "      <th>YearBuilt</th>\n",
       "      <th>YearRemodAdd</th>\n",
       "    </tr>\n",
       "  </thead>\n",
       "  <tbody>\n",
       "    <tr>\n",
       "      <th>0</th>\n",
       "      <td>7</td>\n",
       "      <td>1710</td>\n",
       "      <td>2</td>\n",
       "      <td>548</td>\n",
       "      <td>856</td>\n",
       "      <td>856</td>\n",
       "      <td>2</td>\n",
       "      <td>8</td>\n",
       "      <td>2003</td>\n",
       "      <td>2003</td>\n",
       "    </tr>\n",
       "    <tr>\n",
       "      <th>1</th>\n",
       "      <td>6</td>\n",
       "      <td>1262</td>\n",
       "      <td>2</td>\n",
       "      <td>460</td>\n",
       "      <td>1262</td>\n",
       "      <td>1262</td>\n",
       "      <td>2</td>\n",
       "      <td>6</td>\n",
       "      <td>1976</td>\n",
       "      <td>1976</td>\n",
       "    </tr>\n",
       "    <tr>\n",
       "      <th>2</th>\n",
       "      <td>7</td>\n",
       "      <td>1786</td>\n",
       "      <td>2</td>\n",
       "      <td>608</td>\n",
       "      <td>920</td>\n",
       "      <td>920</td>\n",
       "      <td>2</td>\n",
       "      <td>6</td>\n",
       "      <td>2001</td>\n",
       "      <td>2002</td>\n",
       "    </tr>\n",
       "    <tr>\n",
       "      <th>3</th>\n",
       "      <td>7</td>\n",
       "      <td>1717</td>\n",
       "      <td>3</td>\n",
       "      <td>642</td>\n",
       "      <td>756</td>\n",
       "      <td>961</td>\n",
       "      <td>1</td>\n",
       "      <td>7</td>\n",
       "      <td>1915</td>\n",
       "      <td>1970</td>\n",
       "    </tr>\n",
       "    <tr>\n",
       "      <th>4</th>\n",
       "      <td>8</td>\n",
       "      <td>2198</td>\n",
       "      <td>3</td>\n",
       "      <td>836</td>\n",
       "      <td>1145</td>\n",
       "      <td>1145</td>\n",
       "      <td>2</td>\n",
       "      <td>9</td>\n",
       "      <td>2000</td>\n",
       "      <td>2000</td>\n",
       "    </tr>\n",
       "    <tr>\n",
       "      <th>...</th>\n",
       "      <td>...</td>\n",
       "      <td>...</td>\n",
       "      <td>...</td>\n",
       "      <td>...</td>\n",
       "      <td>...</td>\n",
       "      <td>...</td>\n",
       "      <td>...</td>\n",
       "      <td>...</td>\n",
       "      <td>...</td>\n",
       "      <td>...</td>\n",
       "    </tr>\n",
       "    <tr>\n",
       "      <th>1455</th>\n",
       "      <td>6</td>\n",
       "      <td>1647</td>\n",
       "      <td>2</td>\n",
       "      <td>460</td>\n",
       "      <td>953</td>\n",
       "      <td>953</td>\n",
       "      <td>2</td>\n",
       "      <td>7</td>\n",
       "      <td>1999</td>\n",
       "      <td>2000</td>\n",
       "    </tr>\n",
       "    <tr>\n",
       "      <th>1456</th>\n",
       "      <td>6</td>\n",
       "      <td>2073</td>\n",
       "      <td>2</td>\n",
       "      <td>500</td>\n",
       "      <td>1542</td>\n",
       "      <td>2073</td>\n",
       "      <td>2</td>\n",
       "      <td>7</td>\n",
       "      <td>1978</td>\n",
       "      <td>1988</td>\n",
       "    </tr>\n",
       "    <tr>\n",
       "      <th>1457</th>\n",
       "      <td>7</td>\n",
       "      <td>2340</td>\n",
       "      <td>1</td>\n",
       "      <td>252</td>\n",
       "      <td>1152</td>\n",
       "      <td>1188</td>\n",
       "      <td>2</td>\n",
       "      <td>9</td>\n",
       "      <td>1941</td>\n",
       "      <td>2006</td>\n",
       "    </tr>\n",
       "    <tr>\n",
       "      <th>1458</th>\n",
       "      <td>5</td>\n",
       "      <td>1078</td>\n",
       "      <td>1</td>\n",
       "      <td>240</td>\n",
       "      <td>1078</td>\n",
       "      <td>1078</td>\n",
       "      <td>1</td>\n",
       "      <td>5</td>\n",
       "      <td>1950</td>\n",
       "      <td>1996</td>\n",
       "    </tr>\n",
       "    <tr>\n",
       "      <th>1459</th>\n",
       "      <td>5</td>\n",
       "      <td>1256</td>\n",
       "      <td>1</td>\n",
       "      <td>276</td>\n",
       "      <td>1256</td>\n",
       "      <td>1256</td>\n",
       "      <td>1</td>\n",
       "      <td>6</td>\n",
       "      <td>1965</td>\n",
       "      <td>1965</td>\n",
       "    </tr>\n",
       "  </tbody>\n",
       "</table>\n",
       "<p>1460 rows × 10 columns</p>\n",
       "</div>"
      ],
      "text/plain": [
       "      OverallQual  GrLivArea  GarageCars  GarageArea  TotalBsmtSF  1stFlrSF  \\\n",
       "0               7       1710           2         548          856       856   \n",
       "1               6       1262           2         460         1262      1262   \n",
       "2               7       1786           2         608          920       920   \n",
       "3               7       1717           3         642          756       961   \n",
       "4               8       2198           3         836         1145      1145   \n",
       "...           ...        ...         ...         ...          ...       ...   \n",
       "1455            6       1647           2         460          953       953   \n",
       "1456            6       2073           2         500         1542      2073   \n",
       "1457            7       2340           1         252         1152      1188   \n",
       "1458            5       1078           1         240         1078      1078   \n",
       "1459            5       1256           1         276         1256      1256   \n",
       "\n",
       "      FullBath  TotRmsAbvGrd  YearBuilt  YearRemodAdd  \n",
       "0            2             8       2003          2003  \n",
       "1            2             6       1976          1976  \n",
       "2            2             6       2001          2002  \n",
       "3            1             7       1915          1970  \n",
       "4            2             9       2000          2000  \n",
       "...        ...           ...        ...           ...  \n",
       "1455         2             7       1999          2000  \n",
       "1456         2             7       1978          1988  \n",
       "1457         2             9       1941          2006  \n",
       "1458         1             5       1950          1996  \n",
       "1459         1             6       1965          1965  \n",
       "\n",
       "[1460 rows x 10 columns]"
      ]
     },
     "execution_count": 104,
     "metadata": {},
     "output_type": "execute_result"
    }
   ],
   "source": [
    "x"
   ]
  },
  {
   "cell_type": "code",
   "execution_count": null,
   "id": "aea6c596",
   "metadata": {},
   "outputs": [],
   "source": [
    "#### Step 5: split data into train ans test set"
   ]
  },
  {
   "cell_type": "code",
   "execution_count": 100,
   "id": "a0c85edf",
   "metadata": {},
   "outputs": [],
   "source": [
    "from sklearn.model_selection import train_test_split\n",
    "x_train,x_test,y_train,y_test = train_test_split(x,y,test_size=0.2,random_state=0)"
   ]
  },
  {
   "cell_type": "code",
   "execution_count": null,
   "id": "08a009ed",
   "metadata": {},
   "outputs": [],
   "source": [
    "#### Step 6: Apply LR algorithm"
   ]
  },
  {
   "cell_type": "code",
   "execution_count": 101,
   "id": "81214dc1",
   "metadata": {},
   "outputs": [
    {
     "data": {
      "text/plain": [
       "LinearRegression()"
      ]
     },
     "execution_count": 101,
     "metadata": {},
     "output_type": "execute_result"
    }
   ],
   "source": [
    "from sklearn.linear_model import LinearRegression\n",
    "lr = LinearRegression()\n",
    "lr"
   ]
  },
  {
   "cell_type": "code",
   "execution_count": 102,
   "id": "b4f9a39a",
   "metadata": {},
   "outputs": [
    {
     "data": {
      "text/plain": [
       "LinearRegression()"
      ]
     },
     "execution_count": 102,
     "metadata": {},
     "output_type": "execute_result"
    }
   ],
   "source": [
    "lr.fit(x_train, y_train)"
   ]
  },
  {
   "cell_type": "code",
   "execution_count": null,
   "id": "3857acb4",
   "metadata": {},
   "outputs": [],
   "source": [
    "#### Step 7: Prediction"
   ]
  },
  {
   "cell_type": "code",
   "execution_count": 103,
   "id": "2e8a5ad4",
   "metadata": {},
   "outputs": [
    {
     "data": {
      "text/plain": [
       "array([265234.81426194, 147042.36620358, 111990.35647764, 225968.78975483,\n",
       "       120266.46808507, 116340.99581376, 256811.47058559, 142937.76815401,\n",
       "       493335.56722748, 163465.08372224, 213600.21571103, 194179.31126711,\n",
       "       228376.66562224, 105379.70890343, 130235.91563972, 143659.6966446 ,\n",
       "       217682.86587692, 101908.91916542, 151932.4696311 , 188006.30695675,\n",
       "       137527.61071313, 150177.05671016, 107539.5947871 , 162106.88328248,\n",
       "       188747.97960944, 197176.92385272, 178020.9320047 ,  51167.31146076,\n",
       "       297244.93814264, 112719.08607759, 203141.97730315, 203520.6081454 ,\n",
       "       141411.78639152, 282391.10418274, 319078.43995775, 182535.19627312,\n",
       "       272092.07755576, 117570.68932496, 240238.08566125, 311105.37954934,\n",
       "       233644.16084933, 129105.29841013, 205003.23782   , 296582.25765003,\n",
       "       327745.36038725, 181147.26350618, 125706.2107922 , 112895.82702366,\n",
       "       176625.5140797 ,  70227.01014376, 343136.62993567, 134440.00112647,\n",
       "       182771.34461237,  51835.20851324, 232988.75408321, 102903.28747792,\n",
       "       106907.71043212, 250380.85055164, 137305.82081445,  83162.43267952,\n",
       "       143538.58262645, 114833.09632591, 148890.83249345, 140639.19800195,\n",
       "       217904.72081035, 185463.86361312, 116811.50286445, 219837.3481006 ,\n",
       "       115159.34502238, 209005.21581661, 187142.49060758, 105500.62664854,\n",
       "        50150.51473004, 241139.88058943,  79928.75017945, 279044.85340834,\n",
       "       111737.43055633,  91232.83687217, 281854.23101098, 163909.69190688,\n",
       "       137366.65161511, 120440.82349587, 116795.27986118, 151221.38644947,\n",
       "       233825.18472112, 211949.31926294,  90601.45989909, 214330.71651892,\n",
       "       182438.37772482, 137512.70026931, 187306.53091019, 169410.26879329,\n",
       "       165962.48207633, 220780.09459148, 212908.54717068, 159114.17548276,\n",
       "       230080.74362515, 157963.89288394,  97114.74930937, 147199.20516081,\n",
       "       258564.55726049, 190308.05221446, 116930.29498659, 160187.43003426,\n",
       "       113855.74555496, 278951.31337344, 156303.82386764,  81405.17227442,\n",
       "       173750.5395906 , 125251.05611889,  77202.92714751,  98092.10353183,\n",
       "       191362.43760841, 108691.56459283, 187136.56755767, 162481.97734882,\n",
       "       391291.71102212, 119854.52028319, 200064.29056733, 278004.51903123,\n",
       "       169051.63186281, 190386.82489316, 126246.10095542, 205338.09190545,\n",
       "       232770.19637693, 227271.92025345, 338486.99344592, 212170.61696745,\n",
       "       215623.36954836, 183651.50992496, 222597.862364  , 218711.63383971,\n",
       "       166294.29432919, 188231.9146451 ,  87509.13096769, 244919.26057609,\n",
       "       130712.83965383, 211990.77131021,  97204.43591356, 176081.323252  ,\n",
       "       155646.79051413, 143351.18356401, 239950.92444901, 139436.44641238,\n",
       "       140263.29055358, 165624.70560099, 249779.37350091, 134304.83021823,\n",
       "       292489.69704511, 224500.68577878, 180732.8295884 , 318815.10108062,\n",
       "       303219.32135168, 167247.49858471, 187440.51714421, 272896.12998518,\n",
       "       125107.20868867, 179889.97153834, 139742.87413435, 170723.87047547,\n",
       "       103021.20277792, 143191.63020574, 206468.66203177, 110994.9285445 ,\n",
       "       269068.9753729 , 116051.21024924, 145189.05577763, 280165.14533942,\n",
       "       212775.53468093, 192081.8790724 , 196325.52536601, 163834.79813496,\n",
       "       197005.67514018, 164801.42597211, 120413.67108581, 112335.28912147,\n",
       "       134629.89069387, 269434.43091143, 116704.96036143, 163170.11042811,\n",
       "       291692.80726155, 195155.46376993, 115992.89306103, 281185.79548096,\n",
       "        85384.25947903, 181241.69484014, 112938.90699819, 205312.662304  ,\n",
       "       239513.5565484 , 150800.94855085, 143291.5501038 , 172202.82068744,\n",
       "       231700.47293263, 138976.94362891, 120510.72698872, 159440.13713853,\n",
       "        65026.95659204, 124404.05318075, 176041.12495315, 138646.95785763,\n",
       "       138680.94341367, 207525.50520422, 108631.04459435, 105799.78256934,\n",
       "       130142.45064665, 247716.18964199, 165249.26976559, 307082.82796226,\n",
       "       283928.45756122,  33772.28607237, 165165.98723653, 253512.82967725,\n",
       "        40659.3545702 ,  63376.28467856, 321751.04178927, 230425.80697276,\n",
       "       203272.78292007, 291936.17718002, 277554.04264814,  52398.35651791,\n",
       "       210809.48248352, 189580.52707206, 149817.97391569, 106533.63979735,\n",
       "       222173.9737379 , 253913.14815811, 264548.6648617 , 230158.99412747,\n",
       "       137809.04444796, 187687.14471094,  40371.81282982, 158643.91477816,\n",
       "        74512.81575078, 150398.06809187, 217326.15769297, 135324.83509355,\n",
       "       139233.82690213, 109558.1475818 ,  48510.32710273, 181103.99670308,\n",
       "       108453.08988158, 188886.26343142, 216506.28047296, 222261.60549063,\n",
       "       167249.5884363 , 199241.95351508, 226807.12201396, 201609.85126707,\n",
       "       110623.23973659, 224694.98913956, 186854.79783151, 278295.50196362,\n",
       "        71622.61968563, 359416.8095531 , 231172.20119781, 261596.82910534,\n",
       "        88149.54791799, 239134.02022474, 360050.94630291, 744734.60319553,\n",
       "       232178.39613433, 104825.13238749, 151061.44065461,  49591.86914894,\n",
       "       373362.88747732, 293762.4349219 , 323975.76957352,  32307.69838691,\n",
       "       207622.35197325, 280613.85131432, 128279.14193588, 225332.43487072,\n",
       "       136441.75941374, 199769.84569407, 161064.59599671, 241992.70051781,\n",
       "       219437.2998934 , 184075.81737149, 221969.38963505,  98174.76280951,\n",
       "       122558.73034003, 324377.25444996, 136443.36261441, 135401.03741128,\n",
       "       214546.55233216, 226141.04178205, 134090.03778546, 268524.16967581,\n",
       "       403859.64627823, 188453.88567158,  33595.74107257,  99282.00934248])"
      ]
     },
     "execution_count": 103,
     "metadata": {},
     "output_type": "execute_result"
    }
   ],
   "source": [
    "y_pred = lr.predict(x_test)\n",
    "y_pred"
   ]
  },
  {
   "cell_type": "code",
   "execution_count": null,
   "id": "b1a4c55d",
   "metadata": {},
   "outputs": [],
   "source": [
    "#### Step 8 : Evaluation"
   ]
  },
  {
   "cell_type": "code",
   "execution_count": 106,
   "id": "0cc1d771",
   "metadata": {},
   "outputs": [
    {
     "data": {
      "text/plain": [
       "0.6128804724941801"
      ]
     },
     "execution_count": 106,
     "metadata": {},
     "output_type": "execute_result"
    }
   ],
   "source": [
    "from sklearn.metrics import r2_score\n",
    "accuracy = r2_score(y_pred, y_test)\n",
    "accuracy"
   ]
  },
  {
   "cell_type": "code",
   "execution_count": 111,
   "id": "14b6667d",
   "metadata": {},
   "outputs": [
    {
     "data": {
      "text/plain": [
       "0.8043811062067858"
      ]
     },
     "execution_count": 111,
     "metadata": {},
     "output_type": "execute_result"
    }
   ],
   "source": [
    "lr.score(x_train, y_train)"
   ]
  },
  {
   "cell_type": "code",
   "execution_count": 112,
   "id": "e71466cf",
   "metadata": {},
   "outputs": [
    {
     "data": {
      "text/plain": [
       "0.6378088587169507"
      ]
     },
     "execution_count": 112,
     "metadata": {},
     "output_type": "execute_result"
    }
   ],
   "source": [
    "lr.score(x_test,y_test)"
   ]
  },
  {
   "cell_type": "code",
   "execution_count": 108,
   "id": "cf87f54f",
   "metadata": {},
   "outputs": [
    {
     "data": {
      "text/plain": [
       "array([ 1.74630539e+04,  5.86198191e+01,  2.04749307e+03,  4.13012310e+01,\n",
       "        3.17031500e+01,  1.21461139e+01, -8.51930343e+03, -6.23891841e+02,\n",
       "        2.87541740e+02,  3.27980788e+02])"
      ]
     },
     "execution_count": 108,
     "metadata": {},
     "output_type": "execute_result"
    }
   ],
   "source": [
    "m = lr.coef_\n",
    "m"
   ]
  },
  {
   "cell_type": "code",
   "execution_count": 110,
   "id": "8a7c750d",
   "metadata": {},
   "outputs": [
    {
     "data": {
      "text/plain": [
       "-1285428.8289250154"
      ]
     },
     "execution_count": 110,
     "metadata": {},
     "output_type": "execute_result"
    }
   ],
   "source": [
    "c = lr.intercept_\n",
    "c"
   ]
  },
  {
   "cell_type": "code",
   "execution_count": null,
   "id": "7ed996cb",
   "metadata": {},
   "outputs": [],
   "source": []
  }
 ],
 "metadata": {
  "kernelspec": {
   "display_name": "Python 3 (ipykernel)",
   "language": "python",
   "name": "python3"
  },
  "language_info": {
   "codemirror_mode": {
    "name": "ipython",
    "version": 3
   },
   "file_extension": ".py",
   "mimetype": "text/x-python",
   "name": "python",
   "nbconvert_exporter": "python",
   "pygments_lexer": "ipython3",
   "version": "3.9.13"
  }
 },
 "nbformat": 4,
 "nbformat_minor": 5
}
