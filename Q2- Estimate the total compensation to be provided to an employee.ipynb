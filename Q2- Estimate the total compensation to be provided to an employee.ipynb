{
 "cells": [
  {
   "cell_type": "markdown",
   "id": "014198bf",
   "metadata": {},
   "source": [
    "#### Step 1: Import all lab"
   ]
  },
  {
   "cell_type": "code",
   "execution_count": 27,
   "id": "89935c80",
   "metadata": {},
   "outputs": [],
   "source": [
    "import pandas as pd\n",
    "import numpy as np\n",
    "import seaborn as sns\n",
    "import matplotlib.pyplot as plt\n",
    "import warnings\n",
    "warnings.filterwarnings('ignore')"
   ]
  },
  {
   "cell_type": "markdown",
   "id": "6d93d07d",
   "metadata": {},
   "source": [
    "#### Step 2: load dataset"
   ]
  },
  {
   "cell_type": "code",
   "execution_count": 28,
   "id": "2cbdf774",
   "metadata": {},
   "outputs": [
    {
     "data": {
      "text/html": [
       "<div>\n",
       "<style scoped>\n",
       "    .dataframe tbody tr th:only-of-type {\n",
       "        vertical-align: middle;\n",
       "    }\n",
       "\n",
       "    .dataframe tbody tr th {\n",
       "        vertical-align: top;\n",
       "    }\n",
       "\n",
       "    .dataframe thead th {\n",
       "        text-align: right;\n",
       "    }\n",
       "</style>\n",
       "<table border=\"1\" class=\"dataframe\">\n",
       "  <thead>\n",
       "    <tr style=\"text-align: right;\">\n",
       "      <th></th>\n",
       "      <th>Year</th>\n",
       "      <th>OGC</th>\n",
       "      <th>OG</th>\n",
       "      <th>DC</th>\n",
       "      <th>Dept</th>\n",
       "      <th>UC</th>\n",
       "      <th>Union</th>\n",
       "      <th>JF</th>\n",
       "      <th>Job</th>\n",
       "      <th>EI</th>\n",
       "      <th>Salaries</th>\n",
       "      <th>Overtime</th>\n",
       "      <th>H/D</th>\n",
       "      <th>YT</th>\n",
       "      <th>Total_Compensation</th>\n",
       "    </tr>\n",
       "  </thead>\n",
       "  <tbody>\n",
       "    <tr>\n",
       "      <th>0</th>\n",
       "      <td>2015</td>\n",
       "      <td>4</td>\n",
       "      <td>Community Health</td>\n",
       "      <td>DPH</td>\n",
       "      <td>Public Health</td>\n",
       "      <td>250</td>\n",
       "      <td>SEIU - Health Workers, Local 1021</td>\n",
       "      <td>Med Therapy &amp; Auxiliary</td>\n",
       "      <td>Morgue Attendant</td>\n",
       "      <td>6725</td>\n",
       "      <td>12196</td>\n",
       "      <td>0</td>\n",
       "      <td>0.00</td>\n",
       "      <td>Calendar</td>\n",
       "      <td>16158</td>\n",
       "    </tr>\n",
       "    <tr>\n",
       "      <th>1</th>\n",
       "      <td>2013</td>\n",
       "      <td>4</td>\n",
       "      <td>Community Health</td>\n",
       "      <td>DPH</td>\n",
       "      <td>Public Health</td>\n",
       "      <td>39</td>\n",
       "      <td>Stationary Engineers, Local 39</td>\n",
       "      <td>Journeyman Trade</td>\n",
       "      <td>Stationary Engineer</td>\n",
       "      <td>25058</td>\n",
       "      <td>74639</td>\n",
       "      <td>2820</td>\n",
       "      <td>12703.31</td>\n",
       "      <td>Fiscal</td>\n",
       "      <td>115784</td>\n",
       "    </tr>\n",
       "    <tr>\n",
       "      <th>2</th>\n",
       "      <td>2015</td>\n",
       "      <td>6</td>\n",
       "      <td>General Administration &amp; Finance</td>\n",
       "      <td>ASR</td>\n",
       "      <td>Assessor/Recorder</td>\n",
       "      <td>21</td>\n",
       "      <td>Prof &amp; Tech Engineers - Miscellaneous, Local 21</td>\n",
       "      <td>Appraisal &amp; Taxation</td>\n",
       "      <td>Senior Real Property Appraiser</td>\n",
       "      <td>46108</td>\n",
       "      <td>100554</td>\n",
       "      <td>0</td>\n",
       "      <td>12424.50</td>\n",
       "      <td>Calendar</td>\n",
       "      <td>144708</td>\n",
       "    </tr>\n",
       "    <tr>\n",
       "      <th>3</th>\n",
       "      <td>2016</td>\n",
       "      <td>1</td>\n",
       "      <td>Public Protection</td>\n",
       "      <td>POL</td>\n",
       "      <td>Police</td>\n",
       "      <td>911</td>\n",
       "      <td>Police Officers' Association</td>\n",
       "      <td>Police Services</td>\n",
       "      <td>Sergeant 3</td>\n",
       "      <td>33369</td>\n",
       "      <td>140164</td>\n",
       "      <td>52754</td>\n",
       "      <td>13043.87</td>\n",
       "      <td>Fiscal</td>\n",
       "      <td>242323</td>\n",
       "    </tr>\n",
       "    <tr>\n",
       "      <th>4</th>\n",
       "      <td>2013</td>\n",
       "      <td>2</td>\n",
       "      <td>Public Works, Transportation &amp; Commerce</td>\n",
       "      <td>HHP</td>\n",
       "      <td>PUC Hetch Hetchy</td>\n",
       "      <td>21</td>\n",
       "      <td>Prof &amp; Tech Engineers - Miscellaneous, Local 21</td>\n",
       "      <td>Information Systems</td>\n",
       "      <td>IS Engineer-Journey</td>\n",
       "      <td>28684</td>\n",
       "      <td>58813</td>\n",
       "      <td>0</td>\n",
       "      <td>7655.28</td>\n",
       "      <td>Calendar</td>\n",
       "      <td>82106</td>\n",
       "    </tr>\n",
       "  </tbody>\n",
       "</table>\n",
       "</div>"
      ],
      "text/plain": [
       "   Year  OGC                                       OG   DC               Dept  \\\n",
       "0  2015    4                         Community Health  DPH      Public Health   \n",
       "1  2013    4                         Community Health  DPH      Public Health   \n",
       "2  2015    6         General Administration & Finance  ASR  Assessor/Recorder   \n",
       "3  2016    1                        Public Protection  POL             Police   \n",
       "4  2013    2  Public Works, Transportation & Commerce  HHP   PUC Hetch Hetchy   \n",
       "\n",
       "    UC                                            Union  \\\n",
       "0  250                SEIU - Health Workers, Local 1021   \n",
       "1   39                   Stationary Engineers, Local 39   \n",
       "2   21  Prof & Tech Engineers - Miscellaneous, Local 21   \n",
       "3  911                     Police Officers' Association   \n",
       "4   21  Prof & Tech Engineers - Miscellaneous, Local 21   \n",
       "\n",
       "                        JF                             Job     EI  Salaries  \\\n",
       "0  Med Therapy & Auxiliary                Morgue Attendant   6725     12196   \n",
       "1         Journeyman Trade             Stationary Engineer  25058     74639   \n",
       "2     Appraisal & Taxation  Senior Real Property Appraiser  46108    100554   \n",
       "3          Police Services                      Sergeant 3  33369    140164   \n",
       "4      Information Systems             IS Engineer-Journey  28684     58813   \n",
       "\n",
       "   Overtime       H/D        YT  Total_Compensation  \n",
       "0         0      0.00  Calendar               16158  \n",
       "1      2820  12703.31    Fiscal              115784  \n",
       "2         0  12424.50  Calendar              144708  \n",
       "3     52754  13043.87    Fiscal              242323  \n",
       "4         0   7655.28  Calendar               82106  "
      ]
     },
     "execution_count": 28,
     "metadata": {},
     "output_type": "execute_result"
    }
   ],
   "source": [
    "data = pd.read_csv('train_set.csv')\n",
    "data.head()"
   ]
  },
  {
   "cell_type": "markdown",
   "id": "6b23bb62",
   "metadata": {},
   "source": [
    "#### Step 3: Data Cleaning, Data Warngling, Data Preprocessing"
   ]
  },
  {
   "cell_type": "code",
   "execution_count": 29,
   "id": "96e436a4",
   "metadata": {},
   "outputs": [
    {
     "data": {
      "text/html": [
       "<div>\n",
       "<style scoped>\n",
       "    .dataframe tbody tr th:only-of-type {\n",
       "        vertical-align: middle;\n",
       "    }\n",
       "\n",
       "    .dataframe tbody tr th {\n",
       "        vertical-align: top;\n",
       "    }\n",
       "\n",
       "    .dataframe thead th {\n",
       "        text-align: right;\n",
       "    }\n",
       "</style>\n",
       "<table border=\"1\" class=\"dataframe\">\n",
       "  <thead>\n",
       "    <tr style=\"text-align: right;\">\n",
       "      <th></th>\n",
       "      <th>Year</th>\n",
       "      <th>OG</th>\n",
       "      <th>Dept</th>\n",
       "      <th>Union</th>\n",
       "      <th>JF</th>\n",
       "      <th>Job</th>\n",
       "      <th>Salaries</th>\n",
       "      <th>Overtime</th>\n",
       "      <th>H/D</th>\n",
       "      <th>Total_Compensation</th>\n",
       "    </tr>\n",
       "  </thead>\n",
       "  <tbody>\n",
       "    <tr>\n",
       "      <th>0</th>\n",
       "      <td>2015</td>\n",
       "      <td>Community Health</td>\n",
       "      <td>Public Health</td>\n",
       "      <td>SEIU - Health Workers, Local 1021</td>\n",
       "      <td>Med Therapy &amp; Auxiliary</td>\n",
       "      <td>Morgue Attendant</td>\n",
       "      <td>12196</td>\n",
       "      <td>0</td>\n",
       "      <td>0.00</td>\n",
       "      <td>16158</td>\n",
       "    </tr>\n",
       "    <tr>\n",
       "      <th>1</th>\n",
       "      <td>2013</td>\n",
       "      <td>Community Health</td>\n",
       "      <td>Public Health</td>\n",
       "      <td>Stationary Engineers, Local 39</td>\n",
       "      <td>Journeyman Trade</td>\n",
       "      <td>Stationary Engineer</td>\n",
       "      <td>74639</td>\n",
       "      <td>2820</td>\n",
       "      <td>12703.31</td>\n",
       "      <td>115784</td>\n",
       "    </tr>\n",
       "    <tr>\n",
       "      <th>2</th>\n",
       "      <td>2015</td>\n",
       "      <td>General Administration &amp; Finance</td>\n",
       "      <td>Assessor/Recorder</td>\n",
       "      <td>Prof &amp; Tech Engineers - Miscellaneous, Local 21</td>\n",
       "      <td>Appraisal &amp; Taxation</td>\n",
       "      <td>Senior Real Property Appraiser</td>\n",
       "      <td>100554</td>\n",
       "      <td>0</td>\n",
       "      <td>12424.50</td>\n",
       "      <td>144708</td>\n",
       "    </tr>\n",
       "    <tr>\n",
       "      <th>3</th>\n",
       "      <td>2016</td>\n",
       "      <td>Public Protection</td>\n",
       "      <td>Police</td>\n",
       "      <td>Police Officers' Association</td>\n",
       "      <td>Police Services</td>\n",
       "      <td>Sergeant 3</td>\n",
       "      <td>140164</td>\n",
       "      <td>52754</td>\n",
       "      <td>13043.87</td>\n",
       "      <td>242323</td>\n",
       "    </tr>\n",
       "    <tr>\n",
       "      <th>4</th>\n",
       "      <td>2013</td>\n",
       "      <td>Public Works, Transportation &amp; Commerce</td>\n",
       "      <td>PUC Hetch Hetchy</td>\n",
       "      <td>Prof &amp; Tech Engineers - Miscellaneous, Local 21</td>\n",
       "      <td>Information Systems</td>\n",
       "      <td>IS Engineer-Journey</td>\n",
       "      <td>58813</td>\n",
       "      <td>0</td>\n",
       "      <td>7655.28</td>\n",
       "      <td>82106</td>\n",
       "    </tr>\n",
       "  </tbody>\n",
       "</table>\n",
       "</div>"
      ],
      "text/plain": [
       "   Year                                       OG               Dept  \\\n",
       "0  2015                         Community Health      Public Health   \n",
       "1  2013                         Community Health      Public Health   \n",
       "2  2015         General Administration & Finance  Assessor/Recorder   \n",
       "3  2016                        Public Protection             Police   \n",
       "4  2013  Public Works, Transportation & Commerce   PUC Hetch Hetchy   \n",
       "\n",
       "                                             Union                       JF  \\\n",
       "0                SEIU - Health Workers, Local 1021  Med Therapy & Auxiliary   \n",
       "1                   Stationary Engineers, Local 39         Journeyman Trade   \n",
       "2  Prof & Tech Engineers - Miscellaneous, Local 21     Appraisal & Taxation   \n",
       "3                     Police Officers' Association          Police Services   \n",
       "4  Prof & Tech Engineers - Miscellaneous, Local 21      Information Systems   \n",
       "\n",
       "                              Job  Salaries  Overtime       H/D  \\\n",
       "0                Morgue Attendant     12196         0      0.00   \n",
       "1             Stationary Engineer     74639      2820  12703.31   \n",
       "2  Senior Real Property Appraiser    100554         0  12424.50   \n",
       "3                      Sergeant 3    140164     52754  13043.87   \n",
       "4             IS Engineer-Journey     58813         0   7655.28   \n",
       "\n",
       "   Total_Compensation  \n",
       "0               16158  \n",
       "1              115784  \n",
       "2              144708  \n",
       "3              242323  \n",
       "4               82106  "
      ]
     },
     "execution_count": 29,
     "metadata": {},
     "output_type": "execute_result"
    }
   ],
   "source": [
    "data = data.drop(['OGC','DC','UC','EI','YT'], axis=1)\n",
    "data.head()"
   ]
  },
  {
   "cell_type": "code",
   "execution_count": 30,
   "id": "3869a167",
   "metadata": {},
   "outputs": [
    {
     "data": {
      "text/plain": [
       "Year                    int64\n",
       "OG                     object\n",
       "Dept                   object\n",
       "Union                  object\n",
       "JF                     object\n",
       "Job                    object\n",
       "Salaries                int64\n",
       "Overtime                int64\n",
       "H/D                   float64\n",
       "Total_Compensation      int64\n",
       "dtype: object"
      ]
     },
     "execution_count": 30,
     "metadata": {},
     "output_type": "execute_result"
    }
   ],
   "source": [
    "data.dtypes"
   ]
  },
  {
   "cell_type": "code",
   "execution_count": 31,
   "id": "aee3b8e2",
   "metadata": {},
   "outputs": [
    {
     "data": {
      "text/plain": [
       "(287836, 10)"
      ]
     },
     "execution_count": 31,
     "metadata": {},
     "output_type": "execute_result"
    }
   ],
   "source": [
    "data.shape"
   ]
  },
  {
   "cell_type": "code",
   "execution_count": 32,
   "id": "9f167e94",
   "metadata": {},
   "outputs": [
    {
     "data": {
      "text/plain": [
       "Year                   0\n",
       "OG                     0\n",
       "Dept                   0\n",
       "Union                 36\n",
       "JF                    38\n",
       "Job                    0\n",
       "Salaries               0\n",
       "Overtime               0\n",
       "H/D                    0\n",
       "Total_Compensation     0\n",
       "dtype: int64"
      ]
     },
     "execution_count": 32,
     "metadata": {},
     "output_type": "execute_result"
    }
   ],
   "source": [
    "data.isnull().sum()"
   ]
  },
  {
   "cell_type": "code",
   "execution_count": null,
   "id": "bfb345c1",
   "metadata": {},
   "outputs": [],
   "source": [
    "# missing value tratment"
   ]
  },
  {
   "cell_type": "code",
   "execution_count": 33,
   "id": "32c44726",
   "metadata": {},
   "outputs": [
    {
     "data": {
      "text/plain": [
       "Year                  0\n",
       "OG                    0\n",
       "Dept                  0\n",
       "Union                 0\n",
       "JF                    0\n",
       "Job                   0\n",
       "Salaries              0\n",
       "Overtime              0\n",
       "H/D                   0\n",
       "Total_Compensation    0\n",
       "dtype: int64"
      ]
     },
     "execution_count": 33,
     "metadata": {},
     "output_type": "execute_result"
    }
   ],
   "source": [
    "data['Union'] = data['Union'].fillna(data['Union'].mode()[0])\n",
    "data['JF'] = data['JF'].fillna(data['JF'].mode()[0])\n",
    "data.isnull().sum()"
   ]
  },
  {
   "cell_type": "code",
   "execution_count": null,
   "id": "03bc544f",
   "metadata": {},
   "outputs": [],
   "source": [
    "# feature scaling"
   ]
  },
  {
   "cell_type": "code",
   "execution_count": 34,
   "id": "7076f432",
   "metadata": {},
   "outputs": [
    {
     "data": {
      "text/plain": [
       "StandardScaler()"
      ]
     },
     "execution_count": 34,
     "metadata": {},
     "output_type": "execute_result"
    }
   ],
   "source": [
    "from sklearn.preprocessing import StandardScaler\n",
    "ss = StandardScaler()\n",
    "ss"
   ]
  },
  {
   "cell_type": "code",
   "execution_count": 35,
   "id": "fbbb2c9e",
   "metadata": {},
   "outputs": [
    {
     "data": {
      "text/html": [
       "<div>\n",
       "<style scoped>\n",
       "    .dataframe tbody tr th:only-of-type {\n",
       "        vertical-align: middle;\n",
       "    }\n",
       "\n",
       "    .dataframe tbody tr th {\n",
       "        vertical-align: top;\n",
       "    }\n",
       "\n",
       "    .dataframe thead th {\n",
       "        text-align: right;\n",
       "    }\n",
       "</style>\n",
       "<table border=\"1\" class=\"dataframe\">\n",
       "  <thead>\n",
       "    <tr style=\"text-align: right;\">\n",
       "      <th></th>\n",
       "      <th>Year</th>\n",
       "      <th>OG</th>\n",
       "      <th>Dept</th>\n",
       "      <th>Union</th>\n",
       "      <th>JF</th>\n",
       "      <th>Job</th>\n",
       "      <th>Salaries</th>\n",
       "      <th>Overtime</th>\n",
       "      <th>H/D</th>\n",
       "      <th>Total_Compensation</th>\n",
       "    </tr>\n",
       "  </thead>\n",
       "  <tbody>\n",
       "    <tr>\n",
       "      <th>0</th>\n",
       "      <td>2015</td>\n",
       "      <td>Community Health</td>\n",
       "      <td>Public Health</td>\n",
       "      <td>SEIU - Health Workers, Local 1021</td>\n",
       "      <td>Med Therapy &amp; Auxiliary</td>\n",
       "      <td>Morgue Attendant</td>\n",
       "      <td>-1.144004</td>\n",
       "      <td>-0.397237</td>\n",
       "      <td>-1.825247</td>\n",
       "      <td>-1.207859</td>\n",
       "    </tr>\n",
       "    <tr>\n",
       "      <th>1</th>\n",
       "      <td>2013</td>\n",
       "      <td>Community Health</td>\n",
       "      <td>Public Health</td>\n",
       "      <td>Stationary Engineers, Local 39</td>\n",
       "      <td>Journeyman Trade</td>\n",
       "      <td>Stationary Engineer</td>\n",
       "      <td>0.254853</td>\n",
       "      <td>-0.142704</td>\n",
       "      <td>0.770410</td>\n",
       "      <td>0.262638</td>\n",
       "    </tr>\n",
       "    <tr>\n",
       "      <th>2</th>\n",
       "      <td>2015</td>\n",
       "      <td>General Administration &amp; Finance</td>\n",
       "      <td>Assessor/Recorder</td>\n",
       "      <td>Prof &amp; Tech Engineers - Miscellaneous, Local 21</td>\n",
       "      <td>Appraisal &amp; Taxation</td>\n",
       "      <td>Senior Real Property Appraiser</td>\n",
       "      <td>0.835405</td>\n",
       "      <td>-0.397237</td>\n",
       "      <td>0.713441</td>\n",
       "      <td>0.689561</td>\n",
       "    </tr>\n",
       "    <tr>\n",
       "      <th>3</th>\n",
       "      <td>2016</td>\n",
       "      <td>Public Protection</td>\n",
       "      <td>Police</td>\n",
       "      <td>Police Officers' Association</td>\n",
       "      <td>Police Services</td>\n",
       "      <td>Sergeant 3</td>\n",
       "      <td>1.722754</td>\n",
       "      <td>4.364333</td>\n",
       "      <td>0.839996</td>\n",
       "      <td>2.130375</td>\n",
       "    </tr>\n",
       "    <tr>\n",
       "      <th>4</th>\n",
       "      <td>2013</td>\n",
       "      <td>Public Works, Transportation &amp; Commerce</td>\n",
       "      <td>PUC Hetch Hetchy</td>\n",
       "      <td>Prof &amp; Tech Engineers - Miscellaneous, Local 21</td>\n",
       "      <td>Information Systems</td>\n",
       "      <td>IS Engineer-Journey</td>\n",
       "      <td>-0.099683</td>\n",
       "      <td>-0.397237</td>\n",
       "      <td>-0.261050</td>\n",
       "      <td>-0.234455</td>\n",
       "    </tr>\n",
       "  </tbody>\n",
       "</table>\n",
       "</div>"
      ],
      "text/plain": [
       "   Year                                       OG               Dept  \\\n",
       "0  2015                         Community Health      Public Health   \n",
       "1  2013                         Community Health      Public Health   \n",
       "2  2015         General Administration & Finance  Assessor/Recorder   \n",
       "3  2016                        Public Protection             Police   \n",
       "4  2013  Public Works, Transportation & Commerce   PUC Hetch Hetchy   \n",
       "\n",
       "                                             Union                       JF  \\\n",
       "0                SEIU - Health Workers, Local 1021  Med Therapy & Auxiliary   \n",
       "1                   Stationary Engineers, Local 39         Journeyman Trade   \n",
       "2  Prof & Tech Engineers - Miscellaneous, Local 21     Appraisal & Taxation   \n",
       "3                     Police Officers' Association          Police Services   \n",
       "4  Prof & Tech Engineers - Miscellaneous, Local 21      Information Systems   \n",
       "\n",
       "                              Job  Salaries  Overtime       H/D  \\\n",
       "0                Morgue Attendant -1.144004 -0.397237 -1.825247   \n",
       "1             Stationary Engineer  0.254853 -0.142704  0.770410   \n",
       "2  Senior Real Property Appraiser  0.835405 -0.397237  0.713441   \n",
       "3                      Sergeant 3  1.722754  4.364333  0.839996   \n",
       "4             IS Engineer-Journey -0.099683 -0.397237 -0.261050   \n",
       "\n",
       "   Total_Compensation  \n",
       "0           -1.207859  \n",
       "1            0.262638  \n",
       "2            0.689561  \n",
       "3            2.130375  \n",
       "4           -0.234455  "
      ]
     },
     "execution_count": 35,
     "metadata": {},
     "output_type": "execute_result"
    }
   ],
   "source": [
    "data[['Salaries','Overtime','H/D','Total_Compensation']] = ss.fit_transform(data[['Salaries','Overtime','H/D','Total_Compensation']])\n",
    "data.head()"
   ]
  },
  {
   "cell_type": "code",
   "execution_count": null,
   "id": "36d14650",
   "metadata": {},
   "outputs": [],
   "source": [
    "# apply  Labelencoding to text column"
   ]
  },
  {
   "cell_type": "code",
   "execution_count": 36,
   "id": "b7905322",
   "metadata": {},
   "outputs": [
    {
     "data": {
      "text/plain": [
       "LabelEncoder()"
      ]
     },
     "execution_count": 36,
     "metadata": {},
     "output_type": "execute_result"
    }
   ],
   "source": [
    "from sklearn.preprocessing import LabelEncoder\n",
    "le = LabelEncoder()\n",
    "le"
   ]
  },
  {
   "cell_type": "code",
   "execution_count": 37,
   "id": "6dc6c446",
   "metadata": {},
   "outputs": [
    {
     "data": {
      "text/html": [
       "<div>\n",
       "<style scoped>\n",
       "    .dataframe tbody tr th:only-of-type {\n",
       "        vertical-align: middle;\n",
       "    }\n",
       "\n",
       "    .dataframe tbody tr th {\n",
       "        vertical-align: top;\n",
       "    }\n",
       "\n",
       "    .dataframe thead th {\n",
       "        text-align: right;\n",
       "    }\n",
       "</style>\n",
       "<table border=\"1\" class=\"dataframe\">\n",
       "  <thead>\n",
       "    <tr style=\"text-align: right;\">\n",
       "      <th></th>\n",
       "      <th>Year</th>\n",
       "      <th>OG</th>\n",
       "      <th>Dept</th>\n",
       "      <th>Union</th>\n",
       "      <th>JF</th>\n",
       "      <th>Job</th>\n",
       "      <th>Salaries</th>\n",
       "      <th>Overtime</th>\n",
       "      <th>H/D</th>\n",
       "      <th>Total_Compensation</th>\n",
       "    </tr>\n",
       "  </thead>\n",
       "  <tbody>\n",
       "    <tr>\n",
       "      <th>0</th>\n",
       "      <td>2015</td>\n",
       "      <td>0</td>\n",
       "      <td>45</td>\n",
       "      <td>57</td>\n",
       "      <td>28</td>\n",
       "      <td>671</td>\n",
       "      <td>-1.144004</td>\n",
       "      <td>-0.397237</td>\n",
       "      <td>-1.825247</td>\n",
       "      <td>-1.207859</td>\n",
       "    </tr>\n",
       "    <tr>\n",
       "      <th>1</th>\n",
       "      <td>2013</td>\n",
       "      <td>0</td>\n",
       "      <td>45</td>\n",
       "      <td>63</td>\n",
       "      <td>23</td>\n",
       "      <td>1011</td>\n",
       "      <td>0.254853</td>\n",
       "      <td>-0.142704</td>\n",
       "      <td>0.770410</td>\n",
       "      <td>0.262638</td>\n",
       "    </tr>\n",
       "    <tr>\n",
       "      <th>2</th>\n",
       "      <td>2015</td>\n",
       "      <td>2</td>\n",
       "      <td>5</td>\n",
       "      <td>52</td>\n",
       "      <td>6</td>\n",
       "      <td>911</td>\n",
       "      <td>0.835405</td>\n",
       "      <td>-0.397237</td>\n",
       "      <td>0.713441</td>\n",
       "      <td>0.689561</td>\n",
       "    </tr>\n",
       "    <tr>\n",
       "      <th>3</th>\n",
       "      <td>2016</td>\n",
       "      <td>5</td>\n",
       "      <td>42</td>\n",
       "      <td>47</td>\n",
       "      <td>35</td>\n",
       "      <td>925</td>\n",
       "      <td>1.722754</td>\n",
       "      <td>4.364333</td>\n",
       "      <td>0.839996</td>\n",
       "      <td>2.130375</td>\n",
       "    </tr>\n",
       "    <tr>\n",
       "      <th>4</th>\n",
       "      <td>2013</td>\n",
       "      <td>6</td>\n",
       "      <td>38</td>\n",
       "      <td>52</td>\n",
       "      <td>22</td>\n",
       "      <td>496</td>\n",
       "      <td>-0.099683</td>\n",
       "      <td>-0.397237</td>\n",
       "      <td>-0.261050</td>\n",
       "      <td>-0.234455</td>\n",
       "    </tr>\n",
       "  </tbody>\n",
       "</table>\n",
       "</div>"
      ],
      "text/plain": [
       "   Year  OG  Dept  Union  JF   Job  Salaries  Overtime       H/D  \\\n",
       "0  2015   0    45     57  28   671 -1.144004 -0.397237 -1.825247   \n",
       "1  2013   0    45     63  23  1011  0.254853 -0.142704  0.770410   \n",
       "2  2015   2     5     52   6   911  0.835405 -0.397237  0.713441   \n",
       "3  2016   5    42     47  35   925  1.722754  4.364333  0.839996   \n",
       "4  2013   6    38     52  22   496 -0.099683 -0.397237 -0.261050   \n",
       "\n",
       "   Total_Compensation  \n",
       "0           -1.207859  \n",
       "1            0.262638  \n",
       "2            0.689561  \n",
       "3            2.130375  \n",
       "4           -0.234455  "
      ]
     },
     "execution_count": 37,
     "metadata": {},
     "output_type": "execute_result"
    }
   ],
   "source": [
    "data['OG'] = le.fit_transform(data['OG'])\n",
    "data['Dept'] = le.fit_transform(data['Dept'])\n",
    "data['Union'] = le.fit_transform(data['Union'])\n",
    "data['JF'] = le.fit_transform(data['JF'])\n",
    "data['Job'] = le.fit_transform(data['Job'])\n",
    "data.head()"
   ]
  },
  {
   "cell_type": "markdown",
   "id": "47bc454d",
   "metadata": {},
   "source": [
    "- Check the relation between independent and dependent variable"
   ]
  },
  {
   "cell_type": "code",
   "execution_count": 38,
   "id": "b7aad691",
   "metadata": {},
   "outputs": [
    {
     "data": {
      "image/png": "[encoded data removed]",
      "text/plain": [
       "<Figure size 640x480 with 2 Axes>"
      ]
     },
     "metadata": {},
     "output_type": "display_data"
    }
   ],
   "source": [
    "sns.heatmap(data.corr(), annot=True)\n",
    "plt.show()"
   ]
  },
  {
   "cell_type": "markdown",
   "id": "708e5b68",
   "metadata": {},
   "source": [
    "### Observation:\n",
    "    - 'Year', 'OG', 'Dept','Union','JF','Job' having less relation with Total_Compensation (dependet/ Traget variable)\n",
    "    - so we remove these column from dataset"
   ]
  },
  {
   "cell_type": "code",
   "execution_count": 39,
   "id": "c5203eea",
   "metadata": {},
   "outputs": [
    {
     "data": {
      "text/html": [
       "<div>\n",
       "<style scoped>\n",
       "    .dataframe tbody tr th:only-of-type {\n",
       "        vertical-align: middle;\n",
       "    }\n",
       "\n",
       "    .dataframe tbody tr th {\n",
       "        vertical-align: top;\n",
       "    }\n",
       "\n",
       "    .dataframe thead th {\n",
       "        text-align: right;\n",
       "    }\n",
       "</style>\n",
       "<table border=\"1\" class=\"dataframe\">\n",
       "  <thead>\n",
       "    <tr style=\"text-align: right;\">\n",
       "      <th></th>\n",
       "      <th>Salaries</th>\n",
       "      <th>Overtime</th>\n",
       "      <th>H/D</th>\n",
       "      <th>Total_Compensation</th>\n",
       "    </tr>\n",
       "  </thead>\n",
       "  <tbody>\n",
       "    <tr>\n",
       "      <th>0</th>\n",
       "      <td>-1.144004</td>\n",
       "      <td>-0.397237</td>\n",
       "      <td>-1.825247</td>\n",
       "      <td>-1.207859</td>\n",
       "    </tr>\n",
       "    <tr>\n",
       "      <th>1</th>\n",
       "      <td>0.254853</td>\n",
       "      <td>-0.142704</td>\n",
       "      <td>0.770410</td>\n",
       "      <td>0.262638</td>\n",
       "    </tr>\n",
       "    <tr>\n",
       "      <th>2</th>\n",
       "      <td>0.835405</td>\n",
       "      <td>-0.397237</td>\n",
       "      <td>0.713441</td>\n",
       "      <td>0.689561</td>\n",
       "    </tr>\n",
       "    <tr>\n",
       "      <th>3</th>\n",
       "      <td>1.722754</td>\n",
       "      <td>4.364333</td>\n",
       "      <td>0.839996</td>\n",
       "      <td>2.130375</td>\n",
       "    </tr>\n",
       "    <tr>\n",
       "      <th>4</th>\n",
       "      <td>-0.099683</td>\n",
       "      <td>-0.397237</td>\n",
       "      <td>-0.261050</td>\n",
       "      <td>-0.234455</td>\n",
       "    </tr>\n",
       "  </tbody>\n",
       "</table>\n",
       "</div>"
      ],
      "text/plain": [
       "   Salaries  Overtime       H/D  Total_Compensation\n",
       "0 -1.144004 -0.397237 -1.825247           -1.207859\n",
       "1  0.254853 -0.142704  0.770410            0.262638\n",
       "2  0.835405 -0.397237  0.713441            0.689561\n",
       "3  1.722754  4.364333  0.839996            2.130375\n",
       "4 -0.099683 -0.397237 -0.261050           -0.234455"
      ]
     },
     "execution_count": 39,
     "metadata": {},
     "output_type": "execute_result"
    }
   ],
   "source": [
    "data = data.drop(['Year', 'OG', 'Dept','Union','JF', 'Job'], axis=1)\n",
    "data.head()"
   ]
  },
  {
   "cell_type": "markdown",
   "id": "034b66ac",
   "metadata": {},
   "source": [
    "#### Step 4: Separate data into x and y"
   ]
  },
  {
   "cell_type": "code",
   "execution_count": 40,
   "id": "661b0b95",
   "metadata": {},
   "outputs": [],
   "source": [
    "x= data.drop('Total_Compensation', axis=1)\n",
    "y = data['Total_Compensation']"
   ]
  },
  {
   "cell_type": "markdown",
   "id": "90e7aebd",
   "metadata": {},
   "source": [
    "#### Step 5: Split data into train and test set"
   ]
  },
  {
   "cell_type": "code",
   "execution_count": 41,
   "id": "a7f18d36",
   "metadata": {},
   "outputs": [],
   "source": [
    "from sklearn.model_selection import train_test_split\n",
    "x_train, x_test, y_train, y_test = train_test_split(x,y, test_size=0.2, random_state=0)"
   ]
  },
  {
   "cell_type": "code",
   "execution_count": null,
   "id": "036a500c",
   "metadata": {},
   "outputs": [],
   "source": [
    "#### Step 6: Apply LR algorithm on dataset"
   ]
  },
  {
   "cell_type": "code",
   "execution_count": 42,
   "id": "8b91632e",
   "metadata": {},
   "outputs": [
    {
     "data": {
      "text/plain": [
       "LinearRegression()"
      ]
     },
     "execution_count": 42,
     "metadata": {},
     "output_type": "execute_result"
    }
   ],
   "source": [
    "from sklearn.linear_model import LinearRegression\n",
    "lr = LinearRegression()\n",
    "lr"
   ]
  },
  {
   "cell_type": "code",
   "execution_count": 43,
   "id": "2f93fa21",
   "metadata": {},
   "outputs": [
    {
     "data": {
      "text/plain": [
       "LinearRegression()"
      ]
     },
     "execution_count": 43,
     "metadata": {},
     "output_type": "execute_result"
    }
   ],
   "source": [
    "lr.fit(x_train, y_train)"
   ]
  },
  {
   "cell_type": "markdown",
   "id": "c08cbf6f",
   "metadata": {},
   "source": [
    "#### Step 7: Prediction"
   ]
  },
  {
   "cell_type": "code",
   "execution_count": 44,
   "id": "108fda71",
   "metadata": {},
   "outputs": [
    {
     "data": {
      "text/plain": [
       "array([ 0.07782714, -1.40798583,  1.58017061, ..., -0.95211473,\n",
       "        0.61446448,  0.30741243])"
      ]
     },
     "execution_count": 44,
     "metadata": {},
     "output_type": "execute_result"
    }
   ],
   "source": [
    "y_pred = lr.predict(x_test)\n",
    "y_pred"
   ]
  },
  {
   "cell_type": "markdown",
   "id": "b8d1bde0",
   "metadata": {},
   "source": [
    "#### Step 8: Evaluation"
   ]
  },
  {
   "cell_type": "code",
   "execution_count": 45,
   "id": "2d0a1570",
   "metadata": {},
   "outputs": [
    {
     "data": {
      "text/plain": [
       "0.9877112817282957"
      ]
     },
     "execution_count": 45,
     "metadata": {},
     "output_type": "execute_result"
    }
   ],
   "source": [
    "from sklearn.metrics import r2_score\n",
    "accuracy = r2_score(y_pred, y_test)\n",
    "accuracy"
   ]
  },
  {
   "cell_type": "markdown",
   "id": "bc9d42fd",
   "metadata": {},
   "source": [
    "- accuracy is 98% "
   ]
  },
  {
   "cell_type": "markdown",
   "id": "cb1e181e",
   "metadata": {},
   "source": [
    "### Observation:\n",
    "    - In above dataset there is multiple independent column \n",
    "    - Linear equation become : y = m1x1 + m2x2 + m3x3 + c\n",
    "                        here : y = Total_Compensation\n",
    "                               x1 = Salaries\n",
    "                               x2 = Overtimes\n",
    "                               x3 = H/D\n",
    "                               m = slope\n",
    "                               c = intercept"
   ]
  },
  {
   "cell_type": "code",
   "execution_count": 46,
   "id": "cdfc876d",
   "metadata": {},
   "outputs": [
    {
     "data": {
      "text/plain": [
       "array([0.85616668, 0.19524735, 0.08172468])"
      ]
     },
     "execution_count": 46,
     "metadata": {},
     "output_type": "execute_result"
    }
   ],
   "source": [
    "m = lr.coef_\n",
    "m"
   ]
  },
  {
   "cell_type": "code",
   "execution_count": 48,
   "id": "f60e613e",
   "metadata": {},
   "outputs": [
    {
     "data": {
      "text/plain": [
       "4.867195852188092e-05"
      ]
     },
     "execution_count": 48,
     "metadata": {},
     "output_type": "execute_result"
    }
   ],
   "source": [
    "c = lr.intercept_\n",
    "c"
   ]
  },
  {
   "cell_type": "code",
   "execution_count": null,
   "id": "48e791b7",
   "metadata": {},
   "outputs": [],
   "source": []
  }
 ],
 "metadata": {
  "kernelspec": {
   "display_name": "Python 3 (ipykernel)",
   "language": "python",
   "name": "python3"
  },
  "language_info": {
   "codemirror_mode": {
    "name": "ipython",
    "version": 3
   },
   "file_extension": ".py",
   "mimetype": "text/x-python",
   "name": "python",
   "nbconvert_exporter": "python",
   "pygments_lexer": "ipython3",
   "version": "3.9.13"
  }
 },
 "nbformat": 4,
 "nbformat_minor": 5
}
